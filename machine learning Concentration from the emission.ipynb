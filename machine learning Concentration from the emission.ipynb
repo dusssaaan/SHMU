{
 "cells": [
  {
   "cell_type": "code",
   "execution_count": 14,
   "metadata": {},
   "outputs": [],
   "source": [
    "import pandas as pd\n",
    "import numpy as np"
   ]
  },
  {
   "cell_type": "code",
   "execution_count": 15,
   "metadata": {},
   "outputs": [],
   "source": [
    "# FUME data to numpy array\n",
    "data_FUME=pd.read_csv('/data/emisie_machine_learning/data_FUME.csv',sep=';',encoding='utf-8')\n",
    "data_FUME=data_FUME.drop('Unnamed: 0',1)\n",
    "# data in the numpy array\n",
    "X=data_FUME\n",
    "for i in data_FUME.columns:\n",
    "    if i.startswith('concentration'):\n",
    "       X=X.drop(i,1)\n",
    "X=X.values\n",
    "# labels to the numpy array\n",
    "y={}\n",
    "for i in data_FUME.columns:\n",
    "    if i.startswith('concentration'):\n",
    "       y[i]=data_FUME[i].values       "
   ]
  },
  {
   "cell_type": "code",
   "execution_count": 16,
   "metadata": {},
   "outputs": [],
   "source": [
    "# SMOKE data in the numpy array\n",
    "data_SMOKE=pd.read_csv('/data/emisie_machine_learning/data_SMOKE.csv',sep=';',encoding='utf-8')\n",
    "data_SMOKE=data_SMOKE.drop('Unnamed: 0',1)\n",
    "X_S=data_SMOKE\n",
    "for i in data_SMOKE.columns:\n",
    "    if i.startswith('concentration'):\n",
    "       X_S=X_S.drop(i,1)\n",
    "X_S=X_S.values\n",
    "# labels to the numpy array\n",
    "y_S={}\n",
    "for i in data_SMOKE.columns:\n",
    "    if i.startswith('concentration'):\n",
    "       y_S[i]=data_SMOKE[i].values       "
   ]
  },
  {
   "cell_type": "code",
   "execution_count": 17,
   "metadata": {},
   "outputs": [],
   "source": [
    "X_train, X_test, y_train, y_test,lr ={},{},{},{},{}"
   ]
  },
  {
   "cell_type": "code",
   "execution_count": 18,
   "metadata": {},
   "outputs": [],
   "source": [
    "# split training and test sets for the FUME data\n",
    "from sklearn.model_selection import train_test_split\n",
    "for i in data_FUME.columns:\n",
    "    if i.startswith('concentration'):\n",
    "        X_train[i], X_test[i], y_train[i], y_test[i] = train_test_split(\n",
    "        X, y[i], random_state=0)"
   ]
  },
  {
   "cell_type": "code",
   "execution_count": 19,
   "metadata": {},
   "outputs": [
    {
     "name": "stdout",
     "output_type": "stream",
     "text": [
      "concentration_BAP\n",
      "Training set score: 0.87\n",
      "Test set score: 0.88\n",
      "Test johannes score: -9980.37\n",
      "concentration_CO\n",
      "Training set score: 0.60\n",
      "Test set score: 0.45\n",
      "Test johannes score: -7907.35\n",
      "concentration_NO\n",
      "Training set score: 0.57\n",
      "Test set score: 0.32\n",
      "Test johannes score: -74416.53\n",
      "concentration_NO2\n",
      "Training set score: 0.55\n",
      "Test set score: 0.45\n",
      "Test johannes score: -2789.69\n",
      "concentration_O3\n",
      "Training set score: 0.56\n",
      "Test set score: 0.52\n",
      "Test johannes score: -6007.94\n",
      "concentration_PM25\n",
      "Training set score: 0.63\n",
      "Test set score: 0.64\n",
      "Test johannes score: -31448.88\n",
      "concentration_PM10\n",
      "Training set score: 0.65\n",
      "Test set score: 0.64\n",
      "Test johannes score: -30608.10\n",
      "concentration_SO2\n",
      "Training set score: 0.44\n",
      "Test set score: 0.28\n",
      "Test johannes score: -25881.96\n"
     ]
    }
   ],
   "source": [
    "# LinearRegression  model\n",
    "from sklearn.linear_model import LinearRegression\n",
    "for i in data_FUME.columns:\n",
    "    if i.startswith('concentration'):\n",
    "        lr[i] = LinearRegression().fit(X_train[i], y_train[i])\n",
    "        print(i)\n",
    "        print(\"Training set score: {:.2f}\".format(lr[i].score(X_train[i], y_train[i])))\n",
    "        print(\"Test set score: {:.2f}\".format(lr[i].score(X_test[i], y_test[i])))\n",
    "        print(\"Test johannes score: {:.2f}\".format(lr[i].score(X_S, y_S[i])))"
   ]
  },
  {
   "cell_type": "code",
   "execution_count": 20,
   "metadata": {},
   "outputs": [
    {
     "name": "stdout",
     "output_type": "stream",
     "text": [
      "concentration_BAP\n",
      "Training set score: 0.79\n",
      "Test set score: 0.80\n",
      "Test johannes score: 0.05\n",
      "concentration_CO\n",
      "Training set score: 0.56\n",
      "Test set score: 0.45\n",
      "Test johannes score: -15.74\n",
      "concentration_NO\n",
      "Training set score: 0.55\n",
      "Test set score: 0.31\n",
      "Test johannes score: -6.85\n",
      "concentration_NO2\n",
      "Training set score: 0.48\n",
      "Test set score: 0.42\n",
      "Test johannes score: -27.10\n",
      "concentration_O3\n",
      "Training set score: 0.40\n",
      "Test set score: 0.37\n",
      "Test johannes score: -37.62\n",
      "concentration_PM25\n",
      "Training set score: 0.55\n",
      "Test set score: 0.56\n",
      "Test johannes score: -74.69\n",
      "concentration_PM10\n",
      "Training set score: 0.56\n",
      "Test set score: 0.57\n",
      "Test johannes score: -71.27\n",
      "concentration_SO2\n",
      "Training set score: 0.40\n",
      "Test set score: 0.24\n",
      "Test johannes score: -17.12\n"
     ]
    }
   ],
   "source": [
    "# ridge model\n",
    "from sklearn.linear_model import Ridge\n",
    "rid={}\n",
    "for i in data_FUME.columns:\n",
    "    if i.startswith('concentration'):\n",
    "        rid[i] = Ridge(alpha=1000000).fit(X_train[i], y_train[i])\n",
    "        print(i)\n",
    "        print(\"Training set score: {:.2f}\".format(rid[i].score(X_train[i], y_train[i])))\n",
    "        print(\"Test set score: {:.2f}\".format(rid[i].score(X_test[i], y_test[i])))\n",
    "        print(\"Test johannes score: {:.2f}\".format(rid[i].score(X_S, y_S[i])))"
   ]
  },
  {
   "cell_type": "code",
   "execution_count": 11,
   "metadata": {},
   "outputs": [
    {
     "name": "stdout",
     "output_type": "stream",
     "text": [
      "concentration_BAP\n",
      "Training set score: 0.25\n",
      "Test set score: 0.26\n",
      "Test johannes score: 0.10\n",
      "concentration_CO\n",
      "Training set score: 0.58\n",
      "Test set score: 0.46\n",
      "Test johannes score: -114.42\n",
      "concentration_NO\n",
      "Training set score: 0.53\n",
      "Test set score: 0.31\n",
      "Test johannes score: -0.01\n",
      "concentration_NO2\n",
      "Training set score: 0.48\n",
      "Test set score: 0.41\n",
      "Test johannes score: -34.63\n",
      "concentration_O3\n",
      "Training set score: 0.44\n",
      "Test set score: 0.40\n",
      "Test johannes score: -5.35\n",
      "concentration_PM25\n",
      "Training set score: 0.54\n",
      "Test set score: 0.56\n",
      "Test johannes score: -94.18\n",
      "concentration_PM10\n",
      "Training set score: 0.56\n",
      "Test set score: 0.57\n",
      "Test johannes score: -91.65\n",
      "concentration_SO2\n",
      "Training set score: 0.40\n",
      "Test set score: 0.24\n",
      "Test johannes score: -21.26\n"
     ]
    }
   ],
   "source": [
    "# Lasso model\n",
    "from sklearn.linear_model import Lasso\n",
    "las={}\n",
    "for i in data_FUME.columns:\n",
    "    if i.startswith('concentration'):\n",
    "        las[i] = Lasso(alpha=1, max_iter=100000).fit(X_train[i], y_train[i])\n",
    "        print(i)\n",
    "        print(\"Training set score: {:.2f}\".format(las[i].score(X_train[i], y_train[i])))\n",
    "        print(\"Test set score: {:.2f}\".format(las[i].score(X_test[i], y_test[i])))\n",
    "        print(\"Test johannes score: {:.2f}\".format(las[i].score(X_S, y_S[i])))"
   ]
  },
  {
   "cell_type": "code",
   "execution_count": 12,
   "metadata": {},
   "outputs": [
    {
     "name": "stdout",
     "output_type": "stream",
     "text": [
      "Number of features used: 2\n",
      "Number of features used: 25\n",
      "Number of features used: 15\n",
      "Number of features used: 20\n",
      "Number of features used: 21\n",
      "Number of features used: 21\n",
      "Number of features used: 21\n",
      "Number of features used: 19\n"
     ]
    }
   ],
   "source": [
    "for i in data_FUME.columns:\n",
    "    if i.startswith('concentration'):\n",
    "        print(\"Number of features used: {}\".format(np.sum(las[i].coef_ != 0)))"
   ]
  },
  {
   "cell_type": "code",
   "execution_count": null,
   "metadata": {},
   "outputs": [],
   "source": []
  }
 ],
 "metadata": {
  "kernelspec": {
   "display_name": "Python 3",
   "language": "python",
   "name": "python3"
  },
  "language_info": {
   "codemirror_mode": {
    "name": "ipython",
    "version": 3
   },
   "file_extension": ".py",
   "mimetype": "text/x-python",
   "name": "python",
   "nbconvert_exporter": "python",
   "pygments_lexer": "ipython3",
   "version": "3.6.5"
  }
 },
 "nbformat": 4,
 "nbformat_minor": 2
}
